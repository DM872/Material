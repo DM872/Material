{
 "cells": [
  {
   "cell_type": "markdown",
   "metadata": {},
   "source": [
    "# Exercises on Benders Algorithm"
   ]
  },
  {
   "cell_type": "markdown",
   "metadata": {},
   "source": [
    "## Task 1\n",
    "\n",
    "Write an extended formulation with extreme points and extreme rays for the polyhedron\n",
    "\n",
    "$$\n",
    "\\begin{align*}\n",
    "−x_1 +x_2 &\\leq 1\\\\\n",
    "3x_1 +x_2 &\\geq 5 \\\\\n",
    "x_1 +x_2  &\\geq 1\\\\\n",
    "x_1 +2x_2 &\\leq 11.\n",
    "\\end{align*}\n",
    "$$"
   ]
  },
  {
   "cell_type": "markdown",
   "metadata": {},
   "source": [
    "![plot](./graph.png)"
   ]
  },
  {
   "cell_type": "markdown",
   "metadata": {},
   "source": [
    "```\n",
    "|--------+--------+--------+--------+--------+--------+--------+--------+\n",
    "|     x1 |     x2 |     x3 |     x4 |     x5 |     x6 |     -z |      b |\n",
    "|--------+--------+--------+--------+--------+--------+--------+--------+\n",
    "|     -1 |      1 |      1 |      0 |      0 |      0 |      0 |      1 |\n",
    "|     -3 |     -1 |      0 |      1 |      0 |      0 |      0 |     -5 |\n",
    "|     -1 |     -1 |      0 |      0 |      1 |      0 |      0 |     -1 |\n",
    "|     -1 |     -2 |      0 |      0 |      0 |      1 |      0 |    -11 |\n",
    "|--------+--------+--------+--------+--------+--------+--------+--------+\n",
    "|      1 |      1 |      0 |      0 |      0 |      0 |      1 |      0 |\n",
    "|--------+--------+--------+--------+--------+--------+--------+--------+\n",
    "DUAL SIMPLEX\n",
    "\n",
    "pivot column: 2\n",
    "pivot row: 4\n",
    " pivot: -2\n",
    "-2\n",
    "|--------+--------+--------+--------+--------+--------+--------+--------+\n",
    "|     x1 |     x2 |     x3 |     x4 |     x5 |     x6 |     -z |      b |\n",
    "|--------+--------+--------+--------+--------+--------+--------+--------+\n",
    "|   -3/2 |      0 |      1 |      0 |      0 |    1/2 |      0 |   -9/2 |\n",
    "|   -5/2 |      0 |      0 |      1 |      0 |   -1/2 |      0 |    1/2 |\n",
    "|   -1/2 |      0 |      0 |      0 |      1 |   -1/2 |      0 |    9/2 |\n",
    "|    1/2 |      1 |      0 |      0 |      0 |   -1/2 |      0 |   11/2 |\n",
    "|--------+--------+--------+--------+--------+--------+--------+--------+\n",
    "|    1/2 |      0 |      0 |      0 |      0 |    1/2 |      1 |  -11/2 |\n",
    "|--------+--------+--------+--------+--------+--------+--------+--------+\n",
    "\n",
    "pivot column: 1\n",
    "pivot row: 1\n",
    " pivot: -3/2\n",
    "-3/2\n",
    "|--------+--------+--------+--------+--------+--------+--------+--------+\n",
    "|     x1 |     x2 |     x3 |     x4 |     x5 |     x6 |     -z |      b |\n",
    "|--------+--------+--------+--------+--------+--------+--------+--------+\n",
    "|      1 |      0 |   -2/3 |      0 |      0 |   -1/3 |      0 |      3 |\n",
    "|      0 |      0 |   -5/3 |      1 |      0 |   -4/3 |      0 |      8 |\n",
    "|      0 |      0 |   -1/3 |      0 |      1 |   -2/3 |      0 |      6 |\n",
    "|      0 |      1 |    1/3 |      0 |      0 |   -1/3 |      0 |      4 |\n",
    "|--------+--------+--------+--------+--------+--------+--------+--------+\n",
    "|      0 |      0 |    1/3 |      0 |      0 |    2/3 |      1 |     -7 |\n",
    "|--------+--------+--------+--------+--------+--------+--------+--------+\n",
    "PRIMAL SIMPLEX\n",
    "Confirm pivot column: 63\n",
    "\n",
    "pivot column: 3\n",
    "pivot row: 4\n",
    " pivot: 1/3\n",
    "1/3\n",
    "|--------+--------+--------+--------+--------+--------+--------+--------+\n",
    "|     x1 |     x2 |     x3 |     x4 |     x5 |     x6 |     -z |      b |\n",
    "|--------+--------+--------+--------+--------+--------+--------+--------+\n",
    "|      1 |      2 |      0 |      0 |      0 |     -1 |      0 |     11 |\n",
    "|      0 |      5 |      0 |      1 |      0 |     -3 |      0 |     28 |\n",
    "|      0 |      1 |      0 |      0 |      1 |     -1 |      0 |     10 |\n",
    "|      0 |      3 |      1 |      0 |      0 |     -1 |      0 |     12 |\n",
    "|--------+--------+--------+--------+--------+--------+--------+--------+\n",
    "|      0 |     -1 |      0 |      0 |      0 |      1 |      1 |    -11 |\n",
    "|--------+--------+--------+--------+--------+--------+--------+--------+\n",
    "Confirm pivot column: 6\n",
    "```\n"
   ]
  },
  {
   "cell_type": "markdown",
   "metadata": {},
   "source": [
    "The two points and rays are:\n",
    "\n",
    "$$\n",
    "\\begin{array}{ll}\n",
    "x_1-1/3x_6&\\leq 3\\\\\n",
    "x_2-1/3x_6&\\leq 4\n",
    "\\end{array}\n",
    "\\qquad \n",
    "\\begin{bmatrix}\n",
    "x_1\\\\x_2\n",
    "\\end{bmatrix}\n",
    "=\n",
    "\\begin{bmatrix}\n",
    "3\\\\4\n",
    "\\end{bmatrix}\n",
    "+\n",
    "\\begin{bmatrix}\n",
    "1/3\\\\1/3\n",
    "\\end{bmatrix}\n",
    "t\n",
    "$$\n",
    "\n",
    "and\n",
    "\n",
    "$$\n",
    "\\begin{array}{ll}\n",
    "x_1-x_6&\\leq 11\\\\\n",
    "x_2=0 \n",
    "\\end{array}\n",
    "\\qquad\n",
    "\\begin{bmatrix}\n",
    "x_1\\\\x_2 \n",
    "\\end{bmatrix}\n",
    "=\n",
    "\\begin{bmatrix}\n",
    "11\\\\0\n",
    "\\end{bmatrix}\n",
    "+\n",
    "\\begin{bmatrix}\n",
    "1\\\\0\n",
    "\\end{bmatrix}\n",
    "t\n",
    "$$"
   ]
  },
  {
   "cell_type": "markdown",
   "metadata": {},
   "source": [
    "## Task 2\n",
    "\n",
    "Consider the mixed integer program \n",
    "\n",
    "$$\n",
    "\\begin{align}\n",
    "\\max\\; &4x_1 +5x_2 +2y_1 −7y_2 +5y_3 \\\\\n",
    "&3x_1 +4x_2 +2y_1 −2y_2 +3y_3\\leq 10\\\\\n",
    "&\\vec x\\leq 3,\\; \\vec x\\in \\mathbb{Z}^2_+,\\; \\vec y\\leq 2,\\; \\vec y\\in \\mathbb{R}^3_+. \n",
    "\\end{align}\n",
    "$$\n",
    "\n",
    "Solve it using Benders’ algorithm.\n",
    "\n",
    "After solving it, you are informed that the $y$ variables should also be integer.\n",
    "Without starting again from scratch:\n",
    "1. Solve the new problem using a basic branch and bound algorithm (Section 12.5.1)\n",
    "2. Solve using no-good cuts.\n"
   ]
  },
  {
   "attachments": {},
   "cell_type": "markdown",
   "metadata": {},
   "source": [
    "# Solution\n",
    "We can rewrite the problem in the same matrix terms as seen in the lecture:\n",
    "$$\n",
    "\\begin{align}\n",
    "\\max \\;& \\vec{c}^T\\vec{x}+\\vec{h}^T\\vec{y}\\\\\n",
    "&F\\vec{x}+G\\vec{y}\\leq \\vec{d}\\\\\n",
    "&\\vec{x}\\in X \\cap \\mathbb{Z}^q_+ \\; \\vec{y}\\in \\mathbb{R}^p_+\n",
    "\\end{align}\n",
    "$$\n",
    "which in our case becomes:\n",
    "$$\n",
    "\\begin{align}\n",
    "\\max\\; &\\begin{bmatrix}4& 5\\end{bmatrix}\\begin{bmatrix}x_1\\\\x_2\\end{bmatrix} + \\begin{bmatrix}2&-7&5\\end{bmatrix}\\begin{bmatrix}y_1 \\\\y_2\\\\y_3\\end{bmatrix} \\\\\n",
    "&\\begin{bmatrix}3&4\\end{bmatrix}\\begin{bmatrix}x_1\\\\x_2\\end{bmatrix} +\\begin{bmatrix}2&-2&3\\end{bmatrix}\\begin{bmatrix}y_1\\\\y_2\\\\y_3\\end{bmatrix}\\leq 10\\\\\n",
    "&\\begin{bmatrix}1&0\\\\0&1\\end{bmatrix}\\begin{bmatrix}x_1\\\\x_2\\end{bmatrix}+\\begin{bmatrix}0&0&0\\\\0&0&0\\end{bmatrix}\\begin{bmatrix}y_1\\\\y_2\\\\y_3\\end{bmatrix}\\leq \\begin{bmatrix}3\\\\3\\end{bmatrix}\\\\\n",
    "&\\begin{bmatrix}0&0\\\\0&0\\\\0&0\\end{bmatrix}\\begin{bmatrix}x_1\\\\x_2\\end{bmatrix}+\\begin{bmatrix}1&0&0\\\\0&1&0\\\\0&0&1\\end{bmatrix}\\begin{bmatrix}y_1\\\\y_2\\\\y_3\\end{bmatrix}\\leq \\begin{bmatrix}2\\\\2\\\\2\\end{bmatrix}\\\\\n",
    "&\\vec x\\in \\mathbb{Z}^2_+,\\; \\vec y\\in \\mathbb{R}^3_+. \n",
    "\\end{align}\n",
    "$$"
   ]
  },
  {
   "cell_type": "markdown",
   "metadata": {},
   "source": [
    "We will need to use duality theory in the subproblem so we decide to fix the $x$ variables thus leaving the subproblem a linear programming problem. For a fixed $x=\\bar{x}$ we get the Benders subproblem:\n",
    "$$\n",
    "\\begin{align}\n",
    "\\max\\; & +2y_1 −7y_2 +5y_3\\\\\n",
    "&2{y}_1-2{y}_2+3{y}_3\\leq 10-3\\bar{x}_1 -4\\bar{x}_2\\\\\n",
    "&\\vec y\\leq 2,\\; \\vec y\\in \\mathbb{R}^3_+. \n",
    "\\end{align}\n",
    "$$"
   ]
  },
  {
   "cell_type": "markdown",
   "metadata": {},
   "source": [
    "Next, in some variables $u_1,u_2,u_3,u_4$ we derive the dual of the subproblem (DSP):\n",
    "$$\n",
    "\\begin{align}\n",
    "\\min\\; &(10-3\\bar{x}_1 -4\\bar{x}_2)u_1+2u_2+2u_3+2u_4 \\\\\n",
    "&2u_1+u_2\\geq 2\\\\\n",
    "&-2u_1+u_3\\geq -7\\\\\n",
    "&3u_1+u_4\\geq 5\\\\\n",
    "&\\vec u\\in \\mathbb{R}^4_+ \n",
    "\\end{align}\n",
    "$$"
   ]
  },
  {
   "cell_type": "markdown",
   "metadata": {},
   "source": [
    "The Benders reformulation (BR), aka extensive formulation (EF), in the extreme rays $v^r, r \\in R$ and extreme points $w^p, p \\in P$ of $\\vec{u}^TG\\leq d$ is:\n",
    "$$\n",
    "\\begin{align}\n",
    "z^*=\\max\\; &4x_1 +5x_2 + \\eta \\\\\n",
    "&v^r(10-3x_1-4x_2) \\geq 0 &\\forall r \\in R\\\\\n",
    "&w^p(10-3x_1-4x_2) \\geq \\eta &\\forall p \\in P\\\\\n",
    "&\\vec x\\leq 3,\\; \\vec x\\in \\mathbb{Z}^2_+,\\; \\eta \\in \\mathbb{R}^1.                                  \n",
    "\\end{align}\n",
    "$$"
   ]
  },
  {
   "cell_type": "markdown",
   "metadata": {},
   "source": [
    "We start the Benders' algorithm by relaxing the integrality constraint on the $\\vec{x}$ variables and removing all feasibility and optimality constraints yeilding a reduced extensive formulation (REF): \n",
    "$$\n",
    "\\begin{align}\n",
    "z^*=\\max\\; &4x_1 +5x_2 + \\eta \\\\\n",
    "&\\vec x\\leq 3,\\; \\eta \\in \\mathbb{R}^1.                                  \n",
    "\\end{align}\n",
    "$$"
   ]
  },
  {
   "cell_type": "markdown",
   "metadata": {},
   "source": [
    "The optimal solution of the current (REF) is trivial: $z^*=+\\infty$, $\\eta^*=+\\infty$ and $\\vec{x}^*=[3,3]$.  "
   ]
  },
  {
   "cell_type": "code",
   "execution_count": 1,
   "metadata": {
    "collapsed": false
   },
   "outputs": [],
   "source": [
    "import numpy as np\n",
    "import gurobipy as gp\n",
    "\n",
    "c = np.array([4,5])\n",
    "h = np.array([2,-7,5])\n",
    "F = np.concatenate((np.array([[3,4]]),np.zeros((3,2))),axis=0)\n",
    "G = np.concatenate((np.array([[2,-2,3]]),np.eye(3)),axis=0)\n",
    "d = np.array([10,2,2,2])\n",
    "\n",
    "x_star=np.array([3,3])"
   ]
  },
  {
   "cell_type": "code",
   "execution_count": 2,
   "metadata": {
    "collapsed": false
   },
   "outputs": [],
   "source": [
    "def solve_DSP(d,h,F,G,xstar,silent=False):\n",
    "    # Model\n",
    "    m = gp.Model(\"DSP\")\n",
    "    m.setParam(gp.GRB.Param.InfUnbdInfo, 1)\n",
    "    if silent:\n",
    "        m.setParam(gp.GRB.Param.OutputFlag, 0)\n",
    "    \n",
    "    # Create variables\n",
    "    u = m.addMVar(shape=G.shape[0], vtype=gp.GRB.CONTINUOUS, name=\"u\")\n",
    "\n",
    "    # Set objective\n",
    "    m.setObjective(u @ (d-F @ xstar), gp.GRB.MINIMIZE)\n",
    "\n",
    "    # Add constraints\n",
    "    m.addConstr(G.T @ u>= h, name=\"c\")\n",
    "    if not silent: \n",
    "        m.update()\n",
    "        m.display()\n",
    "    # Optimize model\n",
    "    m.optimize()\n",
    "    return m, u"
   ]
  },
  {
   "cell_type": "code",
   "execution_count": 3,
   "metadata": {
    "collapsed": false
   },
   "outputs": [
    {
     "name": "stdout",
     "output_type": "stream",
     "text": [
      "Set parameter Username\n",
      "Academic license - for non-commercial use only - expires 2024-02-26\n",
      "Set parameter InfUnbdInfo to value 1\n",
      "Minimize\n",
      "  -11.0 u[0] + 2.0 u[1] + 2.0 u[2] + 2.0 u[3]\n",
      "Subject To\n",
      "  c[0]: 2.0 u[0] + u[1] >= 2\n",
      "  c[1]: -2.0 u[0] + u[2] >= -7\n",
      "  c[2]: 3.0 u[0] + u[3] >= 5\n",
      "Gurobi Optimizer version 10.0.1 build v10.0.1rc0 (linux64)\n",
      "\n",
      "CPU model: Intel(R) Core(TM) i7-2600 CPU @ 3.40GHz, instruction set [SSE2|AVX]\n",
      "Thread count: 4 physical cores, 8 logical processors, using up to 8 threads\n",
      "\n",
      "Optimize a model with 3 rows, 4 columns and 6 nonzeros\n",
      "Model fingerprint: 0x91a40911\n",
      "Coefficient statistics:\n",
      "  Matrix range     [1e+00, 3e+00]\n",
      "  Objective range  [2e+00, 1e+01]\n",
      "  Bounds range     [0e+00, 0e+00]\n",
      "  RHS range        [2e+00, 7e+00]\n",
      "Presolve time: 0.01s\n",
      "Iteration    Objective       Primal Inf.    Dual Inf.      Time\n",
      "       0   -1.1000000e+31   1.000000e+30   1.100000e+01      0s\n",
      "\n",
      "Solved in 2 iterations and 0.01 seconds (0.00 work units)\n",
      "Unbounded model\n",
      "extreme ray: [0.5 0.  1.  0. ]\n"
     ]
    }
   ],
   "source": [
    "dsp_model, dsp_sol = solve_DSP(d,h,F,G,x_star)\n",
    "\n",
    "if dsp_model.status == gp.GRB.status.INFEASIBLE:\n",
    "    print(\"Instance infeaasible\")\n",
    "elif dsp_model.status == gp.GRB.status.OPTIMAL:\n",
    "    print(\"extreme point:\", dsp_sol.X)\n",
    "elif dsp_model.status == gp.GRB.status.UNBOUNDED:\n",
    "    print(\"extreme ray:\",dsp_sol.UnbdRay)"
   ]
  },
  {
   "cell_type": "markdown",
   "metadata": {},
   "source": [
    "We find a ray and a feasibility constraint that is currently violated in the Benders reformulation: $v^r(d-Fx^*) < 0$"
   ]
  },
  {
   "cell_type": "code",
   "execution_count": 4,
   "metadata": {
    "collapsed": false
   },
   "outputs": [
    {
     "data": {
      "text/plain": [
       "-3.5"
      ]
     },
     "execution_count": 4,
     "metadata": {},
     "output_type": "execute_result"
    }
   ],
   "source": [
    "dsp_sol.UnbdRay @ (d-F @ x_star)"
   ]
  },
  {
   "cell_type": "markdown",
   "metadata": {},
   "source": [
    "We need to add the feasibility cut $(u^r)^T(d-Fx)\\geq 0$:\n",
    "$$\n",
    "\\begin{bmatrix}0.5&0&1&0\\end{bmatrix}\\left(\\begin{bmatrix}10\\\\2\\\\2\\\\2\\end{bmatrix}-\\begin{bmatrix}3&4\\\\0&0\\\\0&0\\\\0&0\\end{bmatrix}\\begin{bmatrix}x_1\\\\x_2\\end{bmatrix}\\right)\\geq 0\n",
    "$$\n",
    "that is:\n",
    "$$\n",
    "3x_1+4x_2\\leq 14\n",
    "$$"
   ]
  },
  {
   "cell_type": "code",
   "execution_count": 5,
   "metadata": {
    "collapsed": false
   },
   "outputs": [],
   "source": [
    "def solve_REF(c,d,F,extreme_rays=[], extreme_points=[], silent=False):\n",
    "     # Model\n",
    "    m = gp.Model(\"DSP\")\n",
    "    m.setParam(gp.GRB.Param.DualReductions, 0)\n",
    "    if silent:\n",
    "        m.setParam(gp.GRB.Param.OutputFlag, 0)\n",
    "\n",
    "    # Create variables\n",
    "    x = m.addMVar(shape=F.shape[1], ub=3, vtype=gp.GRB.CONTINUOUS, name=\"x\")\n",
    "    eta = m.addMVar(shape=1, ub=100, vtype=gp.GRB.CONTINUOUS, name=\"eta\")\n",
    "\n",
    "    # Set objective\n",
    "    m.setObjective(c @ x + eta, gp.GRB.MAXIMIZE)\n",
    "\n",
    "    # Add constraints\n",
    "    for ray in extreme_rays:\n",
    "        m.addConstr(ray @ (d - F @ x)>=0, name=\"feasibility cut\")\n",
    "    for point in extreme_points:\n",
    "        m.addConstr(point @ (d - F @ x)>=eta, name=\"optimality cut\")\n",
    "    if not silent:\n",
    "        m.update()\n",
    "        m.display()\n",
    "    # Optimize model\n",
    "    m.optimize()\n",
    "    return m,x,eta"
   ]
  },
  {
   "cell_type": "code",
   "execution_count": 6,
   "metadata": {
    "collapsed": false
   },
   "outputs": [
    {
     "name": "stdout",
     "output_type": "stream",
     "text": [
      "Set parameter DualReductions to value 0\n",
      "Maximize\n",
      "  4.0 x[0] + 5.0 x[1] + eta[0]\n",
      "Subject To\n",
      "  feasibility cut: -1.5 x[0] + -2.0 x[1] >= -7\n",
      "Bounds\n",
      "  0 <= x[0] <= 3\n",
      "  0 <= x[1] <= 3\n",
      "  0 <= eta[0] <= 100\n",
      "Gurobi Optimizer version 10.0.1 build v10.0.1rc0 (linux64)\n",
      "\n",
      "CPU model: Intel(R) Core(TM) i7-2600 CPU @ 3.40GHz, instruction set [SSE2|AVX]\n",
      "Thread count: 4 physical cores, 8 logical processors, using up to 8 threads\n",
      "\n",
      "Optimize a model with 1 rows, 3 columns and 2 nonzeros\n",
      "Model fingerprint: 0x8bff916f\n",
      "Coefficient statistics:\n",
      "  Matrix range     [2e+00, 2e+00]\n",
      "  Objective range  [1e+00, 5e+00]\n",
      "  Bounds range     [3e+00, 1e+02]\n",
      "  RHS range        [7e+00, 7e+00]\n",
      "Presolve time: 0.01s\n",
      "Presolved: 1 rows, 3 columns, 2 nonzeros\n",
      "\n",
      "Iteration    Objective       Primal Inf.    Dual Inf.      Time\n",
      "       0    1.1866667e+02   8.333333e-01   0.000000e+00      0s\n",
      "       1    1.1825000e+02   0.000000e+00   0.000000e+00      0s\n",
      "\n",
      "Solved in 1 iterations and 0.01 seconds (0.00 work units)\n",
      "Optimal objective  1.182500000e+02\n"
     ]
    }
   ],
   "source": [
    "ref_model, ref_sol_x, ref_sol_eta = solve_REF(c,d,F, [dsp_sol.UnbdRay])"
   ]
  },
  {
   "cell_type": "markdown",
   "metadata": {},
   "source": [
    "We can now write the overall procedure to solve the linear relaxation of the original problem."
   ]
  },
  {
   "cell_type": "code",
   "execution_count": 7,
   "metadata": {
    "collapsed": false
   },
   "outputs": [
    {
     "name": "stdout",
     "output_type": "stream",
     "text": [
      "Set parameter DualReductions to value 0\n",
      "REF solution [3. 3.] [100.]\n",
      "Set parameter InfUnbdInfo to value 1\n",
      "Found extreme ray: [0.5 0.  1.  0. ]\n",
      "Set parameter DualReductions to value 0\n",
      "REF solution [3.   1.25] [100.]\n",
      "Set parameter InfUnbdInfo to value 1\n",
      "Found extreme point: [3.5 0.  0.  0. ]\n",
      "Set parameter DualReductions to value 0\n",
      "REF solution [0. 0.] [35.]\n",
      "Set parameter InfUnbdInfo to value 1\n",
      "Found extreme point: [0. 2. 0. 5.]\n",
      "Set parameter DualReductions to value 0\n",
      "REF solution [2. 0.] [14.]\n",
      "Set parameter InfUnbdInfo to value 1\n",
      "Found extreme point: [1.66666667 0.         0.         0.        ]\n",
      "Set parameter DualReductions to value 0\n",
      "REF solution [0.53333333 0.        ] [14.]\n",
      "Set parameter InfUnbdInfo to value 1\n",
      "Found extreme point: [1. 0. 0. 2.]\n",
      "Set parameter DualReductions to value 0\n",
      "REF solution [1.33333333 0.        ] [10.]\n",
      "Set parameter InfUnbdInfo to value 1\n",
      "Found extreme point: [1. 0. 0. 2.]\n",
      "Problem Solved:  z=15.333333333333334, eta=[10.],x=[1.33333333 0.        ], y=[-8.881784197001252e-16, 0.0, 2.0]\n"
     ]
    }
   ],
   "source": [
    "extreme_rays=[]\n",
    "extreme_points=[]\n",
    "while True:\n",
    "    # We solve the Restricted Benders reformulation (RBR) or restricted extended formulation:\n",
    "    ref_model, ref_sol_x, ref_sol_eta = solve_REF(c,d,F,extreme_rays, extreme_points,silent=True)\n",
    "    if ref_model.status == gp.GRB.status.INFEASIBLE:\n",
    "        print(\"Instance infeaasible\")\n",
    "        break\n",
    "    elif ref_model.status == gp.GRB.status.UNBOUNDED:\n",
    "        print(\"Ref unbounded:\",ref_sol_x.X,ref_sol_eta.X)        \n",
    "        break\n",
    "    elif ref_model.status == gp.GRB.status.OPTIMAL:\n",
    "        print(\"REF solution\",ref_sol_x.X,ref_sol_eta.X)\n",
    "    else:\n",
    "        print('Optimization was stopped with status %d' % m.status)\n",
    "        break\n",
    "    # We solve the Dual Subproblem\n",
    "    dsp_model, dsp_sol = solve_DSP(d,h,F,G,ref_sol_x.X, silent=True)\n",
    "    if dsp_model.status == gp.GRB.status.UNBOUNDED:\n",
    "        print(\"Found extreme ray:\",dsp_sol.UnbdRay)\n",
    "        extreme_rays=extreme_rays+[dsp_sol.UnbdRay]\n",
    "    elif dsp_model.status == gp.GRB.status.OPTIMAL:\n",
    "        print(\"Found extreme point:\", dsp_sol.X)\n",
    "        if dsp_model.objVal < ref_sol_eta.X:\n",
    "            extreme_points=extreme_points+[dsp_sol.X]\n",
    "        elif dsp_model.objVal == ref_sol_eta.X:\n",
    "            print(\"Problem Solved: \",\n",
    "                  f\"z={ref_model.objVal}, eta={ref_sol_eta.X},\"\n",
    "                  f\"x={ref_sol_x.X}, y={[c.Pi for c in dsp_model.getConstrs()]}\")\n",
    "            break\n",
    "    elif dsp_model.status == gp.GRB.status.INFEASIBLE:\n",
    "        print(\"DSP Instance infeaasible\")\n",
    "        break"
   ]
  }
 ],
 "metadata": {
  "interpreter": {
   "hash": "916dbcbb3f70747c44a77c7bcd40155683ae19c65e1c03b4aa3499c5328201f1"
  },
  "kernelspec": {
   "display_name": "Python 3.8.10 64-bit",
   "language": "python",
   "name": "python3"
  },
  "language_info": {
   "codemirror_mode": {
    "name": "ipython",
    "version": 3
   },
   "file_extension": ".py",
   "mimetype": "text/x-python",
   "name": "python",
   "nbconvert_exporter": "python",
   "pygments_lexer": "ipython3",
   "version": "3.10.6"
  }
 },
 "nbformat": 4,
 "nbformat_minor": 2
}
