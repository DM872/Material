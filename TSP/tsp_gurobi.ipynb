{
 "cells": [
  {
   "cell_type": "markdown",
   "metadata": {},
   "source": [
    "<a href=\"https://colab.research.google.com/github/DM872/Material/blob/main/TSP/tsp_gurobi.ipynb\">\n",
    "  <img src=\"https://colab.research.google.com/assets/colab-badge.svg\" alt=\"Open In Colab\"/>\n",
    "</a>"
   ]
  },
  {
   "cell_type": "markdown",
   "metadata": {},
   "source": [
    "# DM872 A Cutting Plane Approach for the Traveling Salesman Problem"
   ]
  },
  {
   "cell_type": "markdown",
   "metadata": {},
   "source": [
    "## Traveling Salesman Problem\n",
    "\n",
    "Part of this notebook is taken from the very nice tutorial by Peter Norvig:\n",
    "http://nbviewer.jupyter.org/url/norvig.com/ipython/TSP.ipynb"
   ]
  },
  {
   "cell_type": "markdown",
   "metadata": {},
   "source": [
    "Consider the [Traveling Salesperson Problem](https://en.wikipedia.org/wiki/Travelling_salesman_problem):\n",
    "\n",
    "> Given a set of cities and the distances between each pair of cities, what is the shortest possible tour that visits each city exactly once, and returns to the starting city?"
   ]
  },
  {
   "cell_type": "markdown",
   "metadata": {},
   "source": [
    "## Representing an instance of the problem\n",
    "\n",
    "The only thing that matters about cities is the distance between them. We will ignore the fully general TSP where distances can be defined in any arbitrary way and concentrate on an important special case, \n",
    "the *Euclidean TSP*, where the distance between any two cities is the Euclidean distance, the straight-line distance between points in a two-dimensional plane. \n",
    "So a city can be represented by a two-dimensional point: a pair of $x$ and $y$ coordinates in the Cartesian plane.\n",
    "Python already has the two-dimensional point as a built-in numeric data type, \n",
    "but in a non-obvious way: as complex numbers, which inhabit the two-dimensional (real $\\times$ imaginary) plane. We will use those but you will not have to care about this aspect as all functions to handle data are made available to you.\n",
    "\n",
    "We will work with three predetermined, historical instances, `dantzig42.dat berlin52.dat bier127.dat`, and with randomly generated instances.\n",
    "You find the three instances in the `data/` directory of the git repository for this sheet. \n",
    "In the file `tsputil.py` from `src/` you will find the functions to read the instances from the files and to generate instances at random.  \n",
    "The constructor function `City`, creates a city object, so that `City(300, 0)` creates a city with x-coordinate of `300` and y-coordinate of `0`. \n",
    "Then, `distance(A, B)` will be a function that uses the $x$ and $y$ coordinates to compute the distance between cities `A` and `B`.\n",
    "\n",
    "Let's import the files:\n",
    "```python\n",
    "from tsputil import *\n",
    "```"
   ]
  },
  {
   "cell_type": "code",
   "execution_count": null,
   "metadata": {},
   "outputs": [],
   "source": [
    "import gurobipy as gp\n",
    "from gurobipy import GRB\n",
    "from collections import OrderedDict\n",
    "\n",
    "%run src/tsputil.py \n",
    "%matplotlib inline"
   ]
  },
  {
   "cell_type": "markdown",
   "metadata": {},
   "source": [
    "We can then generate an instance of random points with the function `Cities(n,seed)`. The function returns a frozen set because these are the input data and cannot be modified. We plot the instance with `plot_situation`. When you generate an instance make sure that you use a seed number different from the one of other groups working at this project."
   ]
  },
  {
   "cell_type": "code",
   "execution_count": null,
   "metadata": {},
   "outputs": [],
   "source": [
    "ran_points = Cities(n=20,seed=25)\n",
    "plot_situation(ran_points)"
   ]
  },
  {
   "cell_type": "markdown",
   "metadata": {},
   "source": [
    "Alternatively, we can read the `dantiz42.dat` instance which represents locations in USA."
   ]
  },
  {
   "cell_type": "code",
   "execution_count": null,
   "metadata": {},
   "outputs": [],
   "source": [
    "dantzig42 = read_instance(\"data/dantzig42.dat\")\n",
    "plot_situation(dantzig42)"
   ]
  },
  {
   "cell_type": "markdown",
   "metadata": {},
   "source": [
    "## Dantzig, Fulkerson and Johnson (DFJ) Formulation\n",
    "\n",
    "Consider the following formulation of the *symmetric traveling salesman\n",
    "problem* due to Dantzig, Fulkerson and Johnson, 1954 (DFJ) that we have\n",
    "been discussing during the course. Let $V=\\{0..n-1\\}$ be the set of nodes\n",
    "and $E$ the set of edges. Let $E(S)$ be the set of edges induced by the\n",
    "subset of vertices $S$ and $\\delta(v)$ the set of edges in the cut\n",
    "$(v,V\\setminus\\{v\\})$. (We will assume that the instance is symmetric and that an edge between two nodes $i$ and $j$ is present in $E$ only in the form $ij$, if $j>i$, or $ji$, if $ j < i$.) \n",
    "$$\\begin{aligned}\n",
    "\\text{(TSPIP)}\\quad \\min\\; & \\sum c_{ij} x_{ij} \\\\\n",
    "\\text{s.t.}\\;&\\sum_{ij \\in \\delta(i)} x_{ij}+\\sum_{ji \\in \\delta(i)}x_{ji}=2 \\text{ for all } i \\in V\\\\\n",
    "\\label{subtour}&\\sum_{ij \\in E(S)} x_{ij} \\leq |S|-1 \\text{ for all } \\emptyset \\subset S\\subset V, 2 \\leq |S| \\leq n-1\\\\\n",
    "&x_{ij} \\in \\{0,1\\} \\text{ for all } {ij} \\in E\\end{aligned}$$"
   ]
  },
  {
   "cell_type": "markdown",
   "metadata": {},
   "source": [
    "We can generate all subsets of the set of 20 randomly generated cities as follows: "
   ]
  },
  {
   "cell_type": "code",
   "execution_count": null,
   "metadata": {},
   "outputs": [],
   "source": [
    "from itertools import chain, combinations\n",
    "def powerset(iterable):\n",
    "    \"powerset([1,2,3]) --> () (1,) (2,) (3,) (1,2) (1,3) (2,3) (1,2,3)\"\n",
    "    s = list(iterable)\n",
    "    return chain.from_iterable(combinations(s, r) for r in range(len(s)+1))\n",
    "\n",
    "subtours = list(powerset(range(len(ran_points))))\n",
    "# The first element of the list is the empty set and the last element is the full set, hence we remove them.\n",
    "subtours = subtours[1:(len(subtours)-1)]"
   ]
  },
  {
   "cell_type": "markdown",
   "metadata": {},
   "source": [
    "### Task 1\n",
    "Implement the DFJ formulation in the model below and solve your random instance:"
   ]
  },
  {
   "cell_type": "code",
   "execution_count": null,
   "metadata": {},
   "outputs": [],
   "source": [
    "def solve_tsp(points, subtours=[], vartype=GRB.BINARY, solver=\"glpk\", silent=True):\n",
    "    points=list(points)\n",
    "    V = range(len(points))\n",
    "    E = [(i,j) for i in V for j in V if i<j] # complete graph\n",
    "\n",
    "    m = gp.Model(\"TSP0\")\n",
    "    if silent:\n",
    "        m.setParam(GRB.Param.OutputFlag, 0)\n",
    "    ######### BEGIN: Write here your model for Task 1\n",
    "    ## Vars\n",
    "    \n",
    "    ## Objective\n",
    "    \n",
    "    ## Constraints\n",
    "    \n",
    "    ######### END\n",
    "    \n",
    "    m.display\n",
    "    #m.write(\"tsplp.lp\")\n",
    "    m.optimize()\n",
    "    \n",
    "    if m.status == GRB.status.OPTIMAL:\n",
    "        print('The optimal objective is %g' % m.objVal)\n",
    "        return {e: x[e].X for e in E}\n",
    "    else:\n",
    "        print(\"Something wrong in solve_tsp\")\n",
    "        raise SystemExit"
   ]
  },
  {
   "cell_type": "markdown",
   "metadata": {},
   "source": [
    "If we try to solve the small instance on 20 cities with this model, ie:\n",
    "```python\n",
    "solve_tsp(ran_points, subtours)\n",
    "```\n",
    "we get out of memory (you can be more lucky but if so try increasing your instance with a few more cities)."
   ]
  },
  {
   "cell_type": "markdown",
   "metadata": {},
   "source": [
    "## A Cutting Plane Approach \n",
    "\n",
    "The number of subtour elimination constraints in the DFJ formulation can be huge ($2^n$) and even though we can\n",
    "remove half of those due to symmetries, there are still exponentially\n",
    "many. A way to deal with large families of constraints is to introduce\n",
    "them only when needed. This idea is similar to the cutting plane\n",
    "algorithm that we saw in the intro classes.\n",
    "We start by solving the relaxed version of (TSPIP) obtained by removing\n",
    "the integrality constraints and the exponentially many subtour\n",
    "elimination constraints. We dub this relaxation TSPLP$_0$. Let $x^*$ be\n",
    "the optimal solution of TSPLP$_0$."
   ]
  },
  {
   "cell_type": "markdown",
   "metadata": {},
   "source": [
    "\n",
    "### Task 2\n",
    "Implement the new function `solve_tsp(points, subtours=[])` that solves the relaxed version TSPLP$_0$ and solve your random instance with 20 points. Inspect the plot of the solution obtained. \n",
    "```python\n",
    "tsplp0 = solve_tsp(ran_points, subtours=[], vartype=po.NonNegativeReals)\n",
    "plot_situation(ran_points, tsplp0)\n",
    "```\n",
    "Describe what you observe. Are all variables integer? Is the matrix TUM? Why? Is the solution a tour? Is the solution matching your expectations?"
   ]
  },
  {
   "cell_type": "markdown",
   "metadata": {},
   "source": [
    "### Task 3 \n",
    "Detect by visual inspection some subtour inequalities to add to TSPLP0. List those subtours in the subtour argument of the function `solve_tsp` and solve the new problem TSPLP$_1$=TSPLP$_0 \\cup c$, where $c$ is the constraint added.\n",
    "Report the visualization produced by `plot_situation` on the new solution. Is it a tour? If not iterate this procedure until you cannot find anymore subtours. Show your last solution and comment on it. "
   ]
  },
  {
   "cell_type": "markdown",
   "metadata": {},
   "source": [
    "### Task 4\n",
    "We can automatize the manual process described above. \n",
    "Let $V'=V\\setminus\\{0\\}$ and $E'=E\\setminus\\{\\delta(0)\\}$. A set\n",
    "$S\\subseteq V'$ that contains a vertex $k$ forms a subtour in $x^*$ if\n",
    "$$\\sum_{e=ij \\in E'(S)} x_e^* > |S \\setminus \\{k\\} |=|S|-1.$$ "
   ]
  },
  {
   "cell_type": "markdown",
   "metadata": {},
   "source": [
    "We can find the subtour elimination constraint that is most violated by $x^*$ by solving\n",
    "the following *separation problem* for $k=\\{1..n-1\\}$. Let’s represent the\n",
    "unknown set $S \\subseteq V'$ by binary variables $z$ with $z_i=1$ if\n",
    "$i \\in S$ then the separation problem for $k=\\{1..n-1\\}$ is"
   ]
  },
  {
   "cell_type": "markdown",
   "metadata": {},
   "source": [
    "$$ (SEP) \\quad \\xi_k=\\max \\left\\{ \\sum_{e=ij\\in E':i < j} x^*_e z_i z_j - \\sum_{i\n",
    "  \\in V' \\setminus \\{k\\}} z_i : z \\in \\mathbb{B}^n, z_k=1\\right\\} $$ "
   ]
  },
  {
   "cell_type": "markdown",
   "metadata": {},
   "source": [
    "If $ \\xi_k > 0 $ for some $k$ then the solution $z^*$ of SEP gives a subtour\n",
    "$S$, containing $k$, whose corresponding subtour elimination constraint\n",
    "in TSPIP is violated by $x^*$. We insert this constraint in TSPLP$_0$\n",
    "and solve the new problem TSPLP$_1$."
   ]
  },
  {
   "cell_type": "markdown",
   "metadata": {},
   "source": [
    "Rewrite the (SEP) problem for some $k$ as an integer linear program."
   ]
  },
  {
   "cell_type": "markdown",
   "metadata": {},
   "source": [
    "### Task 5\n",
    "Implement your model in the function `solve_separation(points, x_star, k)` below and solve the **LP relaxation of the (SEP) problem** to separate the optimal solution $x^*$ of TSPLP$_0$."
   ]
  },
  {
   "cell_type": "code",
   "execution_count": null,
   "metadata": {},
   "outputs": [],
   "source": [
    "def solve_separation(points, x_star, k, vartype=GRB.CONTINUOUS, solver=\"glpk\", silent=True):\n",
    "    points = list(points)\n",
    "    V = list(range(len(points)))\n",
    "    Vprime = list(range(1, len(points)))\n",
    "    E = [(i, j) for i in V for j in V if i < j]\n",
    "    Eprime = [(i, j) for i in Vprime for j in Vprime if i < j]\n",
    "\n",
    "    m = m.Model(\"SEP\")\n",
    "    if silent:\n",
    "        m.setParam(GRB.Param.OutputFlag, 0)\n",
    "    # BEGIN: Write here your model for Task 5\n",
    "   \n",
    "    \n",
    "    # END\n",
    "    m.optimize()\n",
    "    \n",
    "    if m.status == GRB.status.OPTIMAL:\n",
    "        print(('Separation problem solved for k=%d, solution value %g' % (k, m.objVal))\n",
    "        # BEGIN: Write here the subtour found from the solution of the model\n",
    "        # it must be a list of points\n",
    "        subtour = []\n",
    "        subtour = list(filter(lambda i: z[i].X >= 0.99, Vprime))\n",
    "        # END\n",
    "        return m.value(), subtour\n",
    "    else:\n",
    "        print(\"Something wrong in solve_separation\")\n",
    "        raise SystemExit\n",
    "    "
   ]
  },
  {
   "cell_type": "markdown",
   "metadata": {},
   "source": [
    "Try your implementation of `solve_separation` on your previous TSPLP$_0$ solution. Do you get the expected answer?"
   ]
  },
  {
   "cell_type": "markdown",
   "metadata": {},
   "source": [
    "### Task 6\n",
    "The following procedure `cutting_plane_alg` implements the cutting plane algorithm that uses your implementation of `solve_tsp` and `solve_separation`.\n",
    "Finish the implementation of the function, that is, add the condition for the\n",
    "    presence of violated inequalities. "
   ]
  },
  {
   "cell_type": "code",
   "execution_count": null,
   "metadata": {},
   "outputs": [],
   "source": [
    "def cutting_plane_alg(points):\n",
    "    Vprime = range(1,len(points))\n",
    "    subtours = []\n",
    "    found = True\n",
    "    while found:\n",
    "        lpsol = solve_tsp(points, subtours, vartype=GRB.CONTINUOUS)\n",
    "        plot_situation(points, lpsol)\n",
    "        found = False\n",
    "        tmp_subtours = []\n",
    "        best_val = float('-inf')\n",
    "        for k in Vprime:\n",
    "            value, subtour = solve_separation(points,lpsol,k,vartype=GRB.CONTINUOUS, silent=True)\n",
    "            best_val = value if value > best_val else best_val\n",
    "            ######### BEGIN: write here the condition. Include a tollerance\n",
    "            if False: \n",
    "            ######### END\n",
    "                found = True\n",
    "                tmp_subtours += [subtour]\n",
    "        subtours += tmp_subtours\n",
    "        print('*'*60)\n",
    "        print(\"********** Subtours found: \",tmp_subtours,\" with best value : \",best_val)\n",
    "        print('*'*60)\n",
    "    plot_situation(points, lpsol)\n",
    "    return lpsol "
   ]
  },
  {
   "cell_type": "markdown",
   "metadata": {},
   "source": [
    "Run the cutting plane algorithm\n",
    "    thus implemented until termination. Report the plot of the last\n",
    "    solution found by solving the TSPLP$_n$ problem, where $n$ is the\n",
    "    number of iterations in which violated inequalities were found. Is\n",
    "    the solution optimal?"
   ]
  },
  {
   "cell_type": "markdown",
   "metadata": {},
   "source": [
    "### Task 7 \n",
    "Reflecting upon the process implemented you may wonder whether we\n",
    "    are gaining anything in efficiency. After all we circumvented having\n",
    "    to solve the original integer programming formulation of the TSP by\n",
    "    having to solve many separation problems, which are in principle all\n",
    "    integer programming problems and hence possibly hard to solve. It\n",
    "    turns out that the SEP problems are actually solvable efficiently.\n",
    "    In Task 5, you were given the tip to implement the LP relaxation of\n",
    "    the SEP problem. Why are the solutions to SEP always integer? It\n",
    "    turns out that the SEP corresponds to one problem treated during\n",
    "    the course. Which one? In efficient implementations the SEP problem\n",
    "    is solved by specialized algorithms for this problem. \\[Hint: It may\n",
    "    help to consider the other way to formulate subtour elimination\n",
    "    constraints, that is, cut-set constraints.\\]"
   ]
  },
  {
   "cell_type": "markdown",
   "metadata": {},
   "source": [
    "### Task 8 \n",
    "In task 6, you run the cutting plane algorithm until no cutting\n",
    "    plane can be found anymore. Is this cutting plane algorithm enough\n",
    "    to solve your instance to optimality? What about the general case on\n",
    "    any arbitrary instance? Write your considerations and conclusions.\n",
    "    \\[Hint: try the whole procedure on the instances `dantzig42.dat` and\n",
    "    `berlin52.dat` to see what happens in the general case. Report the\n",
    "    final plots on these instance.\\]"
   ]
  },
  {
   "cell_type": "markdown",
   "metadata": {},
   "source": [
    "### Task 9\n",
    "Provide the length of the optimal tour of your problem on 20 nodes."
   ]
  },
  {
   "cell_type": "markdown",
   "metadata": {},
   "source": [
    "### Task 10\n",
    "\n",
    "Already an instance on 127 vertices is challenging for\n",
    "    our implementation. Try your cutting plane procedure on the instance\n",
    "    `bier127.dat`, which asks to find the shortest tour among the 127\n",
    "    biergardens in Augsburg, Bavaria. You will have to comment the line\n",
    "    for plotting at each iteration, since it is inefficient. Moreover it\n",
    "    might be convenient not to wait for all $k$s to be evaluated but to\n",
    "    insert a cut as soon as one is found."
   ]
  },
  {
   "cell_type": "markdown",
   "metadata": {},
   "source": [
    "### Task 11\n",
    "\n",
    "Experiment ideas: \n",
    "- combine the DFJ cutting plane procedure with integrality constraints \n",
    "- solve the separation problems in a more efficient way, for example, with network flow algorithms."
   ]
  }
 ],
 "metadata": {
  "kernelspec": {
   "display_name": "Python 3",
   "language": "python",
   "name": "python3"
  },
  "language_info": {
   "codemirror_mode": {
    "name": "ipython",
    "version": 3
   },
   "file_extension": ".py",
   "mimetype": "text/x-python",
   "name": "python",
   "nbconvert_exporter": "python",
   "pygments_lexer": "ipython3",
   "version": "3.6.4"
  }
 },
 "nbformat": 4,
 "nbformat_minor": 2
}
