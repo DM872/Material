{
 "cells": [
  {
   "cell_type": "markdown",
   "metadata": {},
   "source": [
    "<a href=\"https://colab.research.google.com/github/DM872/Material/blob/main/TSP/tsp_gurobi.ipynb\">\n",
    "  <img src=\"https://colab.research.google.com/assets/colab-badge.svg\" alt=\"Open In Colab\"/>\n",
    "</a>"
   ]
  },
  {
   "cell_type": "markdown",
   "metadata": {},
   "source": [
    "# DM872 A Cutting Plane Approach for the Traveling Salesman Problem"
   ]
  },
  {
   "cell_type": "markdown",
   "metadata": {},
   "source": [
    "## Traveling Salesman Problem\n",
    "\n",
    "Part of this notebook is taken from the very nice tutorial by Peter Norvig:\n",
    "http://nbviewer.jupyter.org/url/norvig.com/ipython/TSP.ipynb"
   ]
  },
  {
   "cell_type": "markdown",
   "metadata": {},
   "source": [
    "Consider the [Traveling Salesperson Problem](https://en.wikipedia.org/wiki/Travelling_salesman_problem):\n",
    "\n",
    "> Given a set of cities and the distances between each pair of cities, what is the shortest possible tour that visits each city exactly once, and returns to the starting city?"
   ]
  },
  {
   "cell_type": "markdown",
   "metadata": {},
   "source": [
    "## Representing an instance of the problem\n",
    "\n",
    "The only thing that matters about cities is the distance between them. We will ignore the fully general TSP where distances can be defined in any arbitrary way and concentrate on an important special case, \n",
    "the *Euclidean TSP*, where the distance between any two cities is the Euclidean distance, the straight-line distance between points in a two-dimensional plane. \n",
    "So a city can be represented by a two-dimensional point: a pair of $x$ and $y$ coordinates in the Cartesian plane.\n",
    "Python already has the two-dimensional point as a built-in numeric data type, \n",
    "but in a non-obvious way: as complex numbers, which inhabit the two-dimensional (real $\\times$ imaginary) plane. We will use those but you will not have to care about this aspect as all functions to handle data are made available to you.\n",
    "\n",
    "We will work with three predetermined, historical instances, `dantzig42.dat berlin52.dat bier127.dat`, and with randomly generated instances.\n",
    "You find the three instances in the `data/` directory of the git repository for this sheet. \n",
    "In the file `tsputil.py` from `src/` you will find the functions to read the instances from the files and to generate instances at random.  \n",
    "The constructor function `City`, creates a city object, so that `City(300, 0)` creates a city with x-coordinate of `300` and y-coordinate of `0`. \n",
    "Then, `distance(A, B)` will be a function that uses the $x$ and $y$ coordinates to compute the distance between cities `A` and `B`.\n",
    "\n",
    "Let's import the files:\n",
    "```python\n",
    "from tsputil import *\n",
    "```"
   ]
  },
  {
   "cell_type": "code",
   "execution_count": 1,
   "metadata": {},
   "outputs": [],
   "source": [
    "import gurobipy as gp\n",
    "from gurobipy import GRB\n",
    "from collections import OrderedDict\n",
    "\n",
    "%run src/tsputil.py \n",
    "%matplotlib inline"
   ]
  },
  {
   "cell_type": "markdown",
   "metadata": {},
   "source": [
    "We can then generate an instance of random points with the function `Cities(n,seed)`. The function returns a frozen set because these are the input data and cannot be modified. We plot the instance with `plot_situation`. When you generate an instance make sure that you use a seed number different from the one of other groups working at this project."
   ]
  },
  {
   "cell_type": "code",
   "execution_count": 2,
   "metadata": {},
   "outputs": [
    {
     "data": {
      "image/png": "[encoded data removed]",
      "text/plain": [
       "<Figure size 432x288 with 1 Axes>"
      ]
     },
     "metadata": {
      "needs_background": "light"
     },
     "output_type": "display_data"
    }
   ],
   "source": [
    "ran_points = Cities(n=20,seed=25)\n",
    "plot_situation(ran_points)"
   ]
  },
  {
   "cell_type": "markdown",
   "metadata": {},
   "source": [
    "Alternatively, we can read the `dantiz42.dat` instance which represents locations in USA."
   ]
  },
  {
   "cell_type": "code",
   "execution_count": 3,
   "metadata": {},
   "outputs": [
    {
     "data": {
      "image/png": "[encoded data removed]",
      "text/plain": [
       "<Figure size 432x288 with 1 Axes>"
      ]
     },
     "metadata": {
      "needs_background": "light"
     },
     "output_type": "display_data"
    }
   ],
   "source": [
    "dantzig42 = read_instance(\"data/dantzig42.dat\")\n",
    "plot_situation(dantzig42)"
   ]
  },
  {
   "cell_type": "markdown",
   "metadata": {},
   "source": [
    "## Dantzig, Fulkerson and Johnson (DFJ) Formulation\n",
    "\n",
    "Consider the following formulation of the *symmetric traveling salesman\n",
    "problem* due to Dantzig, Fulkerson and Johnson, 1954 (DFJ) that we have\n",
    "been discussing during the course. Let $V=\\{0..n-1\\}$ be the set of nodes\n",
    "and $E$ the set of edges. Let $E(S)$ be the set of edges induced by the\n",
    "subset of vertices $S$ and $\\delta(v)$ the set of edges in the cut\n",
    "$(v,V\\setminus\\{v\\})$. (We will assume that the instance is symmetric and that an edge between two nodes $i$ and $j$ is present in $E$ only in the form $ij$, if $j>i$, or $ji$, if $ j < i$.) \n",
    "$$\n",
    "\\begin{aligned}\n",
    "\\text{(TSPIP)}\\quad \\min\\; & \\sum c_{ij} x_{ij} \\\\\n",
    "\\text{s.t.}\\;&\\sum_{ij \\in \\delta(i)} x_{ij}+\\sum_{ji \\in \\delta(i)}x_{ji}=2 \\text{ for all } i \\in V\\\\\n",
    "&\\sum_{ij \\in E(S)} x_{ij} \\leq |S|-1 \\text{ for all } \\emptyset \\subset S\\subset V, 2 \\leq |S| \\leq n-1\\\\\n",
    "&x_{ij} \\in \\{0,1\\} \\text{ for all } {ij} \\in E\n",
    "\\end{aligned}\n",
    "$$"
   ]
  },
  {
   "cell_type": "markdown",
   "metadata": {},
   "source": [
    "We can generate all subsets of the set of 20 randomly generated cities as follows: "
   ]
  },
  {
   "cell_type": "code",
   "execution_count": 4,
   "metadata": {},
   "outputs": [],
   "source": [
    "from itertools import chain, combinations\n",
    "def powerset(iterable):\n",
    "    \"powerset([1,2,3]) --> () (1,) (2,) (3,) (1,2) (1,3) (2,3) (1,2,3)\"\n",
    "    s = list(iterable)\n",
    "    return chain.from_iterable(combinations(s, r) for r in range(len(s)+1))\n",
    "\n",
    "subtours = list(powerset(range(len(ran_points))))\n",
    "# The first element of the list is the empty set and the last element is the full set, hence we remove them.\n",
    "subtours = subtours[1:(len(subtours)-1)]"
   ]
  },
  {
   "cell_type": "markdown",
   "metadata": {},
   "source": [
    "### Task 1\n",
    "Implement the DFJ formulation in the model below and solve your random instance:"
   ]
  },
  {
   "cell_type": "code",
   "execution_count": 5,
   "metadata": {},
   "outputs": [],
   "source": [
    "def solve_tsp(points, subtours=[], vartype=GRB.BINARY, solver=\"glpk\", silent=True):\n",
    "    points=list(points)\n",
    "    V = range(len(points))\n",
    "    E = [(i,j) for i in V for j in V if i<j] # complete graph\n",
    "\n",
    "    m = gp.Model(\"TSP0\")\n",
    "    if silent:\n",
    "        m.setParam(GRB.Param.OutputFlag, 0)\n",
    "    ######### BEGIN: Write here your model for Task 1\n",
    "    ## Vars\n",
    "    \n",
    "    ## Objective\n",
    "    \n",
    "    ## Constraints\n",
    "    \n",
    "    ######### END\n",
    "    \n",
    "    m.display\n",
    "    #m.write(\"tsplp.lp\")\n",
    "    m.optimize()\n",
    "    \n",
    "    if m.status == GRB.status.OPTIMAL:\n",
    "        print('The optimal objective is %g' % m.objVal)\n",
    "        return {e: x[e].X for e in E}\n",
    "    else:\n",
    "        print(\"Something wrong in solve_tsp\")\n",
    "        raise SystemExit"
   ]
  },
  {
   "cell_type": "markdown",
   "metadata": {},
   "source": [
    "If we try to solve the small instance on 20 cities with this model, ie:\n",
    "```python\n",
    "solve_tsp(ran_points, subtours)\n",
    "```\n",
    "we get out of memory (you can be more lucky but if so try increasing your instance with a few more cities)."
   ]
  },
  {
   "cell_type": "markdown",
   "metadata": {},
   "source": [
    "\n",
    "Beside the DFJ formulation with cutting plane procedure there are\n",
    "other formulations for the TSP that we saw in class and that have a\n",
    "polynomial number of constraints:\n",
    "\n",
    "- the MTZ formulation (C. E. Miller, A. W. Tucker, and R. A. Zemlin,\n",
    "“Integer programming formulations and traveling salesman problems,” J.\n",
    "ACM, 7 (1960), pp. 326–329)\n",
    "\n",
    "- the Flow with Gain by Svestka (JA Svestka, \"A continuous variable representation of the TSP,\" Math Prog, v15, 1978, pp 211-213)\n",
    "\n",
    "- the step model by Dantzig (\"Linear Programming and Extensions\" 1963, Dantzig G.B.)\n",
    "\n",
    "\n",
    "Your tasks:\n",
    "\n",
    "\n",
    "+ Argue that the formulations are correct for the traveling salesman\n",
    "problem, that is, show that a solution to the traveling salesman\n",
    "satisfies all constraints given and that a solution with subtours\n",
    "would be ruled out by the formulation.\n",
    "\n",
    "\n",
    "+ Solve the instance on the 20 random nodes with the formulations\n",
    "given keeping the integrality requirement for the main variables so\n",
    "that the optimal solution can be found. Which formulation is the\n",
    "fastest to solve the problem? How many branch and bound nodes are\n",
    "needed in each formulation to find the optimal solution?\n",
    "\n",
    "\n",
    "+ Compare the DFJ and MTZ formulations on the basis of the quality of\n",
    "their linear relaxations on the instance with random points and on the\n",
    "instances `dantzig42`, `berlin52.dat`, `bier127.dat`. Can they all\n",
    "solve these instances?  Which formulation provides the tigthest LP\n",
    "relaxation?\n",
    "\n",
    "\n",
    "+ Experiment ideas to solve the instance. For example, try combining\n",
    "the DFJ formulation with one of those here.\n",
    "\n"
   ]
  }
 ],
 "metadata": {
  "kernelspec": {
   "display_name": "Python 3",
   "language": "python",
   "name": "python3"
  },
  "language_info": {
   "codemirror_mode": {
    "name": "ipython",
    "version": 3
   },
   "file_extension": ".py",
   "mimetype": "text/x-python",
   "name": "python",
   "nbconvert_exporter": "python",
   "pygments_lexer": "ipython3",
   "version": "3.8.10"
  }
 },
 "nbformat": 4,
 "nbformat_minor": 2
}
